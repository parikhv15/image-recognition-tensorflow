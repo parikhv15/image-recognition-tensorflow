{
 "cells": [
  {
   "cell_type": "code",
   "execution_count": 1,
   "metadata": {},
   "outputs": [
    {
     "name": "stderr",
     "output_type": "stream",
     "text": [
      "Using TensorFlow backend.\n"
     ]
    }
   ],
   "source": [
    "import numpy\n",
    "from keras.models import Sequential\n",
    "from keras.layers import Dense, Dropout, Flatten, BatchNormalization, Activation\n",
    "from keras.layers.convolutional import Conv2D, MaxPooling2D\n",
    "from keras.constraints import maxnorm\n",
    "from keras.utils import np_utils\n",
    "\n",
    "from keras.datasets import cifar10"
   ]
  },
  {
   "cell_type": "code",
   "execution_count": 2,
   "metadata": {},
   "outputs": [],
   "source": [
    "# Set random seed for purposes of reproducibility\n",
    "seed = 21"
   ]
  },
  {
   "cell_type": "code",
   "execution_count": 3,
   "metadata": {},
   "outputs": [],
   "source": [
    "# loading in the data\n",
    "(X_train, y_train), (X_test, y_test) = cifar10.load_data()\n",
    "\n",
    "# normalize the inputs from 0-255 to between 0 and 1 by dividing by 255\n",
    "X_train = X_train.astype('float32')\n",
    "X_test = X_test.astype('float32')\n",
    "X_train = X_train / 255.0\n",
    "X_test = X_test / 255.0"
   ]
  },
  {
   "cell_type": "code",
   "execution_count": 4,
   "metadata": {},
   "outputs": [],
   "source": [
    "# one hot encode outputs\n",
    "y_train = np_utils.to_categorical(y_train)\n",
    "y_test = np_utils.to_categorical(y_test)\n",
    "class_num = y_test.shape[1]"
   ]
  },
  {
   "cell_type": "code",
   "execution_count": 5,
   "metadata": {},
   "outputs": [],
   "source": [
    "#  Create a model. Sequential is most common\n",
    "model = Sequential()"
   ]
  },
  {
   "cell_type": "code",
   "execution_count": 6,
   "metadata": {},
   "outputs": [],
   "source": [
    "# Adding the convolutional layer with\n",
    "# 1. 32 Filters/Channels\n",
    "# 2. Size of filter is (3X3)\n",
    "# 3. Input shape\n",
    "# 4. Padding, 'same' in this scenario\n",
    "model.add(Conv2D(32, (3, 3), input_shape=X_train.shape[1:], padding='same'))\n",
    "\n",
    "# Adding activation function `relu`, most commonly used\n",
    "model.add(Activation('relu'))\n",
    "\n",
    "# or you can do the below:\n",
    "# model.add(Conv2D(32, (3, 3), input_shape=(3, 32, 32), activation='relu', padding='same'))\n",
    "\n",
    "# Now we will make a dropout layer to prevent overfitting, which functions by randomly eliminating\n",
    "# some of the connections between the layers (0.2 means it drops 20% of the existing connections)\n",
    "model.add(Dropout(0.2))\n",
    "\n",
    "# Batch Normalization normalizes the inputs heading into the next layer,\n",
    "# ensuring that the network always creates activations with the same distribution\n",
    "model.add(BatchNormalization())"
   ]
  },
  {
   "cell_type": "code",
   "execution_count": 7,
   "metadata": {},
   "outputs": [],
   "source": [
    "# Here's the pooling layer, as discussed before this helps make the image classifier\n",
    "# more robust so it can learn relevant patterns.\n",
    "model.add(Conv2D(64, (3, 3), padding='same'))\n",
    "model.add(Activation('relu'))\n",
    "model.add(MaxPooling2D(pool_size=(2, 2)))\n",
    "model.add(Dropout(0.2))\n",
    "model.add(BatchNormalization())"
   ]
  },
  {
   "cell_type": "code",
   "execution_count": 8,
   "metadata": {},
   "outputs": [],
   "source": [
    "# You can now repeat these layers to give your network more representations to work off\n",
    "model.add(Conv2D(64, (3, 3), padding='same'))\n",
    "model.add(Activation('relu'))\n",
    "model.add(MaxPooling2D(pool_size=(2, 2)))\n",
    "model.add(Dropout(0.2))\n",
    "model.add(BatchNormalization())\n",
    "\n",
    "model.add(Conv2D(128, (3, 3), padding='same'))\n",
    "model.add(Activation('relu'))\n",
    "model.add(Dropout(0.2))\n",
    "model.add(BatchNormalization())\n",
    "\n",
    "# Flatten the data\n",
    "model.add(Flatten())\n",
    "model.add(Dropout(0.2))"
   ]
  },
  {
   "cell_type": "code",
   "execution_count": 9,
   "metadata": {},
   "outputs": [],
   "source": [
    "# Now we make use of the Dense import and create the first densely connected layer.\n",
    "# We need to specify the number of neurons in the dense layer. Note that the numbers\n",
    "# of neurons in succeeding layers decreases, eventually approaching the same number of\n",
    "# neurons as there are classes in the dataset (in this case 10). The kernel constraint\n",
    "# can regularize the data as it learns, another thing that helps prevent overfitting.\n",
    "# This is why we imported maxnorm earlier.\n",
    "model.add(Dense(256, kernel_constraint=maxnorm(3)))\n",
    "model.add(Activation('relu'))\n",
    "model.add(Dropout(0.2))\n",
    "model.add(BatchNormalization())\n",
    "\n",
    "model.add(Dense(128, kernel_constraint=maxnorm(3)))\n",
    "model.add(Activation('relu'))\n",
    "model.add(Dropout(0.2))\n",
    "model.add(BatchNormalization())"
   ]
  },
  {
   "cell_type": "code",
   "execution_count": 10,
   "metadata": {},
   "outputs": [],
   "source": [
    "# In this final layer, we pass in the number of classes for the number of neurons.\n",
    "# Each neuron represents a class, and the output of this layer will be a 10 neuron\n",
    "# vector with each neuron storing some probability that the image in question belongs\n",
    "# to the class it represents.\n",
    "model.add(Dense(class_num))\n",
    "\n",
    "# Finally, the softmax activation function selects the neuron with the highest\n",
    "# probability as its output, voting that the image belongs to that class.\n",
    "model.add(Activation('softmax'))"
   ]
  },
  {
   "cell_type": "code",
   "execution_count": 11,
   "metadata": {},
   "outputs": [
    {
     "name": "stdout",
     "output_type": "stream",
     "text": [
      "Model: \"sequential_1\"\n",
      "_________________________________________________________________\n",
      "Layer (type)                 Output Shape              Param #   \n",
      "=================================================================\n",
      "conv2d_1 (Conv2D)            (None, 32, 32, 32)        896       \n",
      "_________________________________________________________________\n",
      "activation_1 (Activation)    (None, 32, 32, 32)        0         \n",
      "_________________________________________________________________\n",
      "dropout_1 (Dropout)          (None, 32, 32, 32)        0         \n",
      "_________________________________________________________________\n",
      "batch_normalization_1 (Batch (None, 32, 32, 32)        128       \n",
      "_________________________________________________________________\n",
      "conv2d_2 (Conv2D)            (None, 32, 32, 64)        18496     \n",
      "_________________________________________________________________\n",
      "activation_2 (Activation)    (None, 32, 32, 64)        0         \n",
      "_________________________________________________________________\n",
      "max_pooling2d_1 (MaxPooling2 (None, 16, 16, 64)        0         \n",
      "_________________________________________________________________\n",
      "dropout_2 (Dropout)          (None, 16, 16, 64)        0         \n",
      "_________________________________________________________________\n",
      "batch_normalization_2 (Batch (None, 16, 16, 64)        256       \n",
      "_________________________________________________________________\n",
      "conv2d_3 (Conv2D)            (None, 16, 16, 64)        36928     \n",
      "_________________________________________________________________\n",
      "activation_3 (Activation)    (None, 16, 16, 64)        0         \n",
      "_________________________________________________________________\n",
      "max_pooling2d_2 (MaxPooling2 (None, 8, 8, 64)          0         \n",
      "_________________________________________________________________\n",
      "dropout_3 (Dropout)          (None, 8, 8, 64)          0         \n",
      "_________________________________________________________________\n",
      "batch_normalization_3 (Batch (None, 8, 8, 64)          256       \n",
      "_________________________________________________________________\n",
      "conv2d_4 (Conv2D)            (None, 8, 8, 128)         73856     \n",
      "_________________________________________________________________\n",
      "activation_4 (Activation)    (None, 8, 8, 128)         0         \n",
      "_________________________________________________________________\n",
      "dropout_4 (Dropout)          (None, 8, 8, 128)         0         \n",
      "_________________________________________________________________\n",
      "batch_normalization_4 (Batch (None, 8, 8, 128)         512       \n",
      "_________________________________________________________________\n",
      "flatten_1 (Flatten)          (None, 8192)              0         \n",
      "_________________________________________________________________\n",
      "dropout_5 (Dropout)          (None, 8192)              0         \n",
      "_________________________________________________________________\n",
      "dense_1 (Dense)              (None, 256)               2097408   \n",
      "_________________________________________________________________\n",
      "activation_5 (Activation)    (None, 256)               0         \n",
      "_________________________________________________________________\n",
      "dropout_6 (Dropout)          (None, 256)               0         \n",
      "_________________________________________________________________\n",
      "batch_normalization_5 (Batch (None, 256)               1024      \n",
      "_________________________________________________________________\n",
      "dense_2 (Dense)              (None, 128)               32896     \n",
      "_________________________________________________________________\n",
      "activation_6 (Activation)    (None, 128)               0         \n",
      "_________________________________________________________________\n",
      "dropout_7 (Dropout)          (None, 128)               0         \n",
      "_________________________________________________________________\n",
      "batch_normalization_6 (Batch (None, 128)               512       \n",
      "_________________________________________________________________\n",
      "dense_3 (Dense)              (None, 10)                1290      \n",
      "_________________________________________________________________\n",
      "activation_7 (Activation)    (None, 10)                0         \n",
      "=================================================================\n",
      "Total params: 2,264,458\n",
      "Trainable params: 2,263,114\n",
      "Non-trainable params: 1,344\n",
      "_________________________________________________________________\n",
      "None\n"
     ]
    }
   ],
   "source": [
    "# Number of epochs\n",
    "# The optimizer is what will tune the weights in your network to approach the\n",
    "# point of lowest loss. The Adam algorithm is one of the most commonly used\n",
    "# optimizers because it gives great performance\n",
    "epochs = 25\n",
    "optimizer = 'adam'\n",
    "\n",
    "model.compile(loss='categorical_crossentropy', optimizer=optimizer, metrics=['accuracy'])\n",
    "\n",
    "print(model.summary())"
   ]
  },
  {
   "cell_type": "code",
   "execution_count": 12,
   "metadata": {},
   "outputs": [
    {
     "name": "stdout",
     "output_type": "stream",
     "text": [
      "Train on 50000 samples, validate on 10000 samples\n",
      "Epoch 1/25\n",
      "50000/50000 [==============================] - 200s 4ms/step - loss: 1.5101 - accuracy: 0.4635 - val_loss: 1.3401 - val_accuracy: 0.5147\n",
      "Epoch 2/25\n",
      "50000/50000 [==============================] - 226s 5ms/step - loss: 1.0550 - accuracy: 0.6266 - val_loss: 0.9155 - val_accuracy: 0.6786\n",
      "Epoch 3/25\n",
      "50000/50000 [==============================] - 184s 4ms/step - loss: 0.8692 - accuracy: 0.6942 - val_loss: 0.7475 - val_accuracy: 0.7347\n",
      "Epoch 4/25\n",
      "50000/50000 [==============================] - 184s 4ms/step - loss: 0.7630 - accuracy: 0.7338 - val_loss: 0.7144 - val_accuracy: 0.7519\n",
      "Epoch 5/25\n",
      "50000/50000 [==============================] - 200s 4ms/step - loss: 0.7021 - accuracy: 0.7537 - val_loss: 0.6779 - val_accuracy: 0.7599\n",
      "Epoch 6/25\n",
      "50000/50000 [==============================] - 187s 4ms/step - loss: 0.6638 - accuracy: 0.7677 - val_loss: 0.6399 - val_accuracy: 0.7742\n",
      "Epoch 7/25\n",
      "50000/50000 [==============================] - 194s 4ms/step - loss: 0.6266 - accuracy: 0.7804 - val_loss: 0.6311 - val_accuracy: 0.7859\n",
      "Epoch 8/25\n",
      "50000/50000 [==============================] - 180s 4ms/step - loss: 0.6034 - accuracy: 0.7890 - val_loss: 0.7042 - val_accuracy: 0.7586\n",
      "Epoch 9/25\n",
      "50000/50000 [==============================] - 181s 4ms/step - loss: 0.5743 - accuracy: 0.7987 - val_loss: 0.5935 - val_accuracy: 0.7961\n",
      "Epoch 10/25\n",
      "50000/50000 [==============================] - 190s 4ms/step - loss: 0.5636 - accuracy: 0.8015 - val_loss: 0.5779 - val_accuracy: 0.7964\n",
      "Epoch 11/25\n",
      "50000/50000 [==============================] - 189s 4ms/step - loss: 0.5339 - accuracy: 0.8135 - val_loss: 0.5736 - val_accuracy: 0.8008\n",
      "Epoch 12/25\n",
      "50000/50000 [==============================] - 181s 4ms/step - loss: 0.5198 - accuracy: 0.8177 - val_loss: 0.6171 - val_accuracy: 0.7921\n",
      "Epoch 13/25\n",
      "50000/50000 [==============================] - 181s 4ms/step - loss: 0.5126 - accuracy: 0.8212 - val_loss: 0.5845 - val_accuracy: 0.8018\n",
      "Epoch 14/25\n",
      "50000/50000 [==============================] - 181s 4ms/step - loss: 0.4994 - accuracy: 0.8246 - val_loss: 0.6184 - val_accuracy: 0.7872\n",
      "Epoch 15/25\n",
      "50000/50000 [==============================] - 181s 4ms/step - loss: 0.4849 - accuracy: 0.8305 - val_loss: 0.5696 - val_accuracy: 0.8036\n",
      "Epoch 16/25\n",
      "50000/50000 [==============================] - 184s 4ms/step - loss: 0.4785 - accuracy: 0.8324 - val_loss: 0.5892 - val_accuracy: 0.8000\n",
      "Epoch 17/25\n",
      "50000/50000 [==============================] - 189s 4ms/step - loss: 0.4803 - accuracy: 0.8318 - val_loss: 0.5572 - val_accuracy: 0.8131\n",
      "Epoch 18/25\n",
      "50000/50000 [==============================] - 181s 4ms/step - loss: 0.4550 - accuracy: 0.8417 - val_loss: 0.5230 - val_accuracy: 0.8223\n",
      "Epoch 19/25\n",
      "50000/50000 [==============================] - 180s 4ms/step - loss: 0.4491 - accuracy: 0.8418 - val_loss: 0.5303 - val_accuracy: 0.8199\n",
      "Epoch 20/25\n",
      "50000/50000 [==============================] - 179s 4ms/step - loss: 0.4418 - accuracy: 0.8451 - val_loss: 0.5213 - val_accuracy: 0.8230\n",
      "Epoch 21/25\n",
      "50000/50000 [==============================] - 178s 4ms/step - loss: 0.4383 - accuracy: 0.8470 - val_loss: 0.5523 - val_accuracy: 0.8154\n",
      "Epoch 22/25\n",
      "50000/50000 [==============================] - 178s 4ms/step - loss: 0.4370 - accuracy: 0.8469 - val_loss: 0.5153 - val_accuracy: 0.8256\n",
      "Epoch 23/25\n",
      "50000/50000 [==============================] - 178s 4ms/step - loss: 0.4289 - accuracy: 0.8497 - val_loss: 0.5103 - val_accuracy: 0.8294\n",
      "Epoch 24/25\n",
      "50000/50000 [==============================] - 179s 4ms/step - loss: 0.4196 - accuracy: 0.8525 - val_loss: 0.5258 - val_accuracy: 0.8224\n",
      "Epoch 25/25\n",
      "50000/50000 [==============================] - 185s 4ms/step - loss: 0.4200 - accuracy: 0.8547 - val_loss: 0.5114 - val_accuracy: 0.8291\n"
     ]
    },
    {
     "data": {
      "text/plain": [
       "<keras.callbacks.callbacks.History at 0x15488fd10>"
      ]
     },
     "execution_count": 12,
     "metadata": {},
     "output_type": "execute_result"
    }
   ],
   "source": [
    "# all we have to do is call the fit() function on the model and pass in the chosen parameters.\n",
    "numpy.random.seed(seed)\n",
    "model.fit(X_train, y_train, validation_data=(X_test, y_test), epochs=epochs, batch_size=64)"
   ]
  },
  {
   "cell_type": "code",
   "execution_count": 13,
   "metadata": {},
   "outputs": [
    {
     "name": "stdout",
     "output_type": "stream",
     "text": [
      "Accuracy: 82.91%\n"
     ]
    }
   ],
   "source": [
    "# Model evaluation\n",
    "scores = model.evaluate(X_test, y_test, verbose=0)\n",
    "print(\"Accuracy: %.2f%%\" % (scores[1]*100))"
   ]
  },
  {
   "cell_type": "code",
   "execution_count": 14,
   "metadata": {},
   "outputs": [],
   "source": [
    "# Save the model\n",
    "model.save('models/trained/cifar10_04-08-2020.h5')"
   ]
  },
  {
   "cell_type": "code",
   "execution_count": null,
   "metadata": {},
   "outputs": [],
   "source": []
  }
 ],
 "metadata": {
  "kernelspec": {
   "display_name": "Python 3",
   "language": "python",
   "name": "python3"
  },
  "language_info": {
   "codemirror_mode": {
    "name": "ipython",
    "version": 3
   },
   "file_extension": ".py",
   "mimetype": "text/x-python",
   "name": "python",
   "nbconvert_exporter": "python",
   "pygments_lexer": "ipython3",
   "version": "3.7.7"
  }
 },
 "nbformat": 4,
 "nbformat_minor": 4
}
